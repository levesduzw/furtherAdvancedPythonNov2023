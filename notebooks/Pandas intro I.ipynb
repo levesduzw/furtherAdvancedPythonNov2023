{
 "cells": [
  {
   "cell_type": "code",
   "execution_count": 1,
   "id": "50b28277",
   "metadata": {},
   "outputs": [],
   "source": [
    "import numpy as np\n",
    "import pandas as pd"
   ]
  },
  {
   "cell_type": "code",
   "execution_count": 6,
   "id": "f0ba1ba7",
   "metadata": {},
   "outputs": [
    {
     "data": {
      "text/plain": [
       "0     8.0\n",
       "1     7.0\n",
       "2    -5.0\n",
       "3     3.0\n",
       "4    99.0\n",
       "dtype: float64"
      ]
     },
     "execution_count": 6,
     "metadata": {},
     "output_type": "execute_result"
    }
   ],
   "source": [
    "# Series is a mutable collection of the same data type\n",
    "# based on np array\n",
    "l = [8.0, 7, -5, 3, 99]\n",
    "o = pd.Series(l)\n",
    "o"
   ]
  },
  {
   "cell_type": "code",
   "execution_count": 8,
   "id": "656217d6",
   "metadata": {},
   "outputs": [
    {
     "data": {
      "text/plain": [
       "array([ 8.,  7., -5.,  3., 99.])"
      ]
     },
     "execution_count": 8,
     "metadata": {},
     "output_type": "execute_result"
    }
   ],
   "source": [
    "o.values"
   ]
  },
  {
   "cell_type": "code",
   "execution_count": 9,
   "id": "f2955508",
   "metadata": {},
   "outputs": [
    {
     "data": {
      "text/plain": [
       "RangeIndex(start=0, stop=5, step=1)"
      ]
     },
     "execution_count": 9,
     "metadata": {},
     "output_type": "execute_result"
    }
   ],
   "source": [
    "o.index"
   ]
  },
  {
   "cell_type": "code",
   "execution_count": 33,
   "id": "a251312f",
   "metadata": {},
   "outputs": [
    {
     "data": {
      "text/plain": [
       "d     8.0\n",
       "b     7.0\n",
       "a    -5.0\n",
       "c     3.0\n",
       "e    35.0\n",
       "dtype: float64"
      ]
     },
     "execution_count": 33,
     "metadata": {},
     "output_type": "execute_result"
    }
   ],
   "source": [
    "vals = [8.0, 7, -5, 3, 35]\n",
    "ind = ['d', 'b', 'a', 'c', 'e']\n",
    "s = pd.Series(vals, index=ind)\n",
    "s"
   ]
  },
  {
   "cell_type": "code",
   "execution_count": 20,
   "id": "61cd1515",
   "metadata": {},
   "outputs": [
    {
     "data": {
      "text/plain": [
       "d    99.0\n",
       "b     7.0\n",
       "a    -5.0\n",
       "c     3.0\n",
       "e    35.0\n",
       "dtype: float64"
      ]
     },
     "execution_count": 20,
     "metadata": {},
     "output_type": "execute_result"
    }
   ],
   "source": [
    "s['d'] = 99\n",
    "s"
   ]
  },
  {
   "cell_type": "markdown",
   "id": "ed295263",
   "metadata": {},
   "source": [
    "## Slicing series"
   ]
  },
  {
   "cell_type": "code",
   "execution_count": 22,
   "id": "93e2d37e",
   "metadata": {},
   "outputs": [
    {
     "data": {
      "text/plain": [
       "d    99.0\n",
       "a    -5.0\n",
       "e    35.0\n",
       "dtype: float64"
      ]
     },
     "execution_count": 22,
     "metadata": {},
     "output_type": "execute_result"
    }
   ],
   "source": [
    "s['d':'e':2]    # [start:stop:step] - not stop-before!"
   ]
  },
  {
   "cell_type": "code",
   "execution_count": 28,
   "id": "1dcd886a",
   "metadata": {},
   "outputs": [
    {
     "data": {
      "text/plain": [
       "b    7.0\n",
       "a   -5.0\n",
       "c    3.0\n",
       "dtype: float64"
      ]
     },
     "execution_count": 28,
     "metadata": {},
     "output_type": "execute_result"
    }
   ],
   "source": [
    "s[1:4]    # [start:stop-before] - using ordinals"
   ]
  },
  {
   "cell_type": "markdown",
   "id": "c29ce57b",
   "metadata": {},
   "source": [
    "## logic to get slices"
   ]
  },
  {
   "cell_type": "code",
   "execution_count": 27,
   "id": "3bd84c69",
   "metadata": {},
   "outputs": [
    {
     "data": {
      "text/plain": [
       "d    99.0\n",
       "b     7.0\n",
       "c     3.0\n",
       "e    35.0\n",
       "dtype: float64"
      ]
     },
     "execution_count": 27,
     "metadata": {},
     "output_type": "execute_result"
    }
   ],
   "source": [
    "s[s>2]"
   ]
  },
  {
   "cell_type": "code",
   "execution_count": 30,
   "id": "337e6424",
   "metadata": {},
   "outputs": [
    {
     "data": {
      "text/plain": [
       "a   -5.0\n",
       "dtype: float64"
      ]
     },
     "execution_count": 30,
     "metadata": {},
     "output_type": "execute_result"
    }
   ],
   "source": [
    "s[s<0]"
   ]
  },
  {
   "cell_type": "code",
   "execution_count": 31,
   "id": "a78b3681",
   "metadata": {},
   "outputs": [
    {
     "data": {
      "text/plain": [
       "d    9.949874\n",
       "b    2.645751\n",
       "a         NaN\n",
       "c    1.732051\n",
       "e    5.916080\n",
       "dtype: float64"
      ]
     },
     "execution_count": 31,
     "metadata": {},
     "output_type": "execute_result"
    }
   ],
   "source": [
    "s**0.5    # NaN = Not a Numbre"
   ]
  },
  {
   "cell_type": "code",
   "execution_count": 36,
   "id": "6533a43a",
   "metadata": {},
   "outputs": [
    {
     "data": {
      "text/plain": [
       "Cork       35000.0\n",
       "asdasd         NaN\n",
       "Galway     16000.0\n",
       "Athlone     5000.0\n",
       "Dublin     71000.0\n",
       "dtype: float64"
      ]
     },
     "execution_count": 36,
     "metadata": {},
     "output_type": "execute_result"
    }
   ],
   "source": [
    "sdata = {'Cork':35000, 'Dublin':71000, 'Galway':16000, 'Athlone':5000}\n",
    "idata = {'Cork', 'Dublin', 'Galway', 'Athlone', 'asdasd'}\n",
    "\n",
    "p = pd.Series(sdata, index=idata)\n",
    "p"
   ]
  },
  {
   "cell_type": "code",
   "execution_count": 37,
   "id": "274fd716",
   "metadata": {},
   "outputs": [],
   "source": [
    "#------------\n",
    "\n"
   ]
  },
  {
   "cell_type": "code",
   "execution_count": 43,
   "id": "4cbac818",
   "metadata": {},
   "outputs": [],
   "source": [
    "towns_l = ['Cork', 'Dublin', 'Galway', 'Athlone', 'Shannon', 'Rosscarbery', 'Athenry']\n",
    "years_l = [2017, 2018, 2019, 2020, 2021, 2022, 2023]\n",
    "pop_l   = [1.5, 1.7, 3.6, 2.4, 2.9, 3.2, 1.7]\n",
    "data_d    = {'Town':towns_l, 'Year':years_l, 'Pop':pop_l}"
   ]
  },
  {
   "cell_type": "code",
   "execution_count": 48,
   "id": "f838bc48",
   "metadata": {},
   "outputs": [
    {
     "data": {
      "text/html": [
       "<div>\n",
       "<style scoped>\n",
       "    .dataframe tbody tr th:only-of-type {\n",
       "        vertical-align: middle;\n",
       "    }\n",
       "\n",
       "    .dataframe tbody tr th {\n",
       "        vertical-align: top;\n",
       "    }\n",
       "\n",
       "    .dataframe thead th {\n",
       "        text-align: right;\n",
       "    }\n",
       "</style>\n",
       "<table border=\"1\" class=\"dataframe\">\n",
       "  <thead>\n",
       "    <tr style=\"text-align: right;\">\n",
       "      <th></th>\n",
       "      <th>Town</th>\n",
       "      <th>Year</th>\n",
       "      <th>Pop</th>\n",
       "    </tr>\n",
       "  </thead>\n",
       "  <tbody>\n",
       "    <tr>\n",
       "      <th>Cork</th>\n",
       "      <td>Cork</td>\n",
       "      <td>2017</td>\n",
       "      <td>1.5</td>\n",
       "    </tr>\n",
       "    <tr>\n",
       "      <th>Dublin</th>\n",
       "      <td>Dublin</td>\n",
       "      <td>2018</td>\n",
       "      <td>1.7</td>\n",
       "    </tr>\n",
       "    <tr>\n",
       "      <th>Galway</th>\n",
       "      <td>Galway</td>\n",
       "      <td>2019</td>\n",
       "      <td>3.6</td>\n",
       "    </tr>\n",
       "    <tr>\n",
       "      <th>Athlone</th>\n",
       "      <td>Athlone</td>\n",
       "      <td>2020</td>\n",
       "      <td>2.4</td>\n",
       "    </tr>\n",
       "    <tr>\n",
       "      <th>Shannon</th>\n",
       "      <td>Shannon</td>\n",
       "      <td>2021</td>\n",
       "      <td>2.9</td>\n",
       "    </tr>\n",
       "    <tr>\n",
       "      <th>Rosscarbery</th>\n",
       "      <td>Rosscarbery</td>\n",
       "      <td>2022</td>\n",
       "      <td>3.2</td>\n",
       "    </tr>\n",
       "    <tr>\n",
       "      <th>Athenry</th>\n",
       "      <td>Athenry</td>\n",
       "      <td>2023</td>\n",
       "      <td>1.7</td>\n",
       "    </tr>\n",
       "  </tbody>\n",
       "</table>\n",
       "</div>"
      ],
      "text/plain": [
       "                    Town  Year  Pop\n",
       "Cork                Cork  2017  1.5\n",
       "Dublin            Dublin  2018  1.7\n",
       "Galway            Galway  2019  3.6\n",
       "Athlone          Athlone  2020  2.4\n",
       "Shannon          Shannon  2021  2.9\n",
       "Rosscarbery  Rosscarbery  2022  3.2\n",
       "Athenry          Athenry  2023  1.7"
      ]
     },
     "execution_count": 48,
     "metadata": {},
     "output_type": "execute_result"
    }
   ],
   "source": [
    "df = pd.DataFrame(data_d)\n",
    "df = pd.DataFrame(data_d, index=towns_l)\n",
    "df"
   ]
  },
  {
   "cell_type": "code",
   "execution_count": 49,
   "id": "aa0c6abc",
   "metadata": {},
   "outputs": [
    {
     "data": {
      "text/html": [
       "<div>\n",
       "<style scoped>\n",
       "    .dataframe tbody tr th:only-of-type {\n",
       "        vertical-align: middle;\n",
       "    }\n",
       "\n",
       "    .dataframe tbody tr th {\n",
       "        vertical-align: top;\n",
       "    }\n",
       "\n",
       "    .dataframe thead th {\n",
       "        text-align: right;\n",
       "    }\n",
       "</style>\n",
       "<table border=\"1\" class=\"dataframe\">\n",
       "  <thead>\n",
       "    <tr style=\"text-align: right;\">\n",
       "      <th></th>\n",
       "      <th>Town</th>\n",
       "      <th>Year</th>\n",
       "      <th>Pop</th>\n",
       "    </tr>\n",
       "  </thead>\n",
       "  <tbody>\n",
       "    <tr>\n",
       "      <th>Cork</th>\n",
       "      <td>Cork</td>\n",
       "      <td>2017</td>\n",
       "      <td>1.5</td>\n",
       "    </tr>\n",
       "    <tr>\n",
       "      <th>Dublin</th>\n",
       "      <td>Dublin</td>\n",
       "      <td>2018</td>\n",
       "      <td>1.7</td>\n",
       "    </tr>\n",
       "  </tbody>\n",
       "</table>\n",
       "</div>"
      ],
      "text/plain": [
       "          Town  Year  Pop\n",
       "Cork      Cork  2017  1.5\n",
       "Dublin  Dublin  2018  1.7"
      ]
     },
     "execution_count": 49,
     "metadata": {},
     "output_type": "execute_result"
    }
   ],
   "source": [
    "df.head(2)"
   ]
  },
  {
   "cell_type": "code",
   "execution_count": 52,
   "id": "9c75c195",
   "metadata": {},
   "outputs": [
    {
     "data": {
      "text/html": [
       "<div>\n",
       "<style scoped>\n",
       "    .dataframe tbody tr th:only-of-type {\n",
       "        vertical-align: middle;\n",
       "    }\n",
       "\n",
       "    .dataframe tbody tr th {\n",
       "        vertical-align: top;\n",
       "    }\n",
       "\n",
       "    .dataframe thead th {\n",
       "        text-align: right;\n",
       "    }\n",
       "</style>\n",
       "<table border=\"1\" class=\"dataframe\">\n",
       "  <thead>\n",
       "    <tr style=\"text-align: right;\">\n",
       "      <th></th>\n",
       "      <th>Pop</th>\n",
       "      <th>Year</th>\n",
       "    </tr>\n",
       "  </thead>\n",
       "  <tbody>\n",
       "    <tr>\n",
       "      <th>Cork</th>\n",
       "      <td>1.5</td>\n",
       "      <td>2017</td>\n",
       "    </tr>\n",
       "    <tr>\n",
       "      <th>Dublin</th>\n",
       "      <td>1.7</td>\n",
       "      <td>2018</td>\n",
       "    </tr>\n",
       "    <tr>\n",
       "      <th>Galway</th>\n",
       "      <td>3.6</td>\n",
       "      <td>2019</td>\n",
       "    </tr>\n",
       "    <tr>\n",
       "      <th>Athlone</th>\n",
       "      <td>2.4</td>\n",
       "      <td>2020</td>\n",
       "    </tr>\n",
       "    <tr>\n",
       "      <th>Shannon</th>\n",
       "      <td>2.9</td>\n",
       "      <td>2021</td>\n",
       "    </tr>\n",
       "    <tr>\n",
       "      <th>Rosscarbery</th>\n",
       "      <td>3.2</td>\n",
       "      <td>2022</td>\n",
       "    </tr>\n",
       "    <tr>\n",
       "      <th>Athenry</th>\n",
       "      <td>1.7</td>\n",
       "      <td>2023</td>\n",
       "    </tr>\n",
       "  </tbody>\n",
       "</table>\n",
       "</div>"
      ],
      "text/plain": [
       "             Pop  Year\n",
       "Cork         1.5  2017\n",
       "Dublin       1.7  2018\n",
       "Galway       3.6  2019\n",
       "Athlone      2.4  2020\n",
       "Shannon      2.9  2021\n",
       "Rosscarbery  3.2  2022\n",
       "Athenry      1.7  2023"
      ]
     },
     "execution_count": 52,
     "metadata": {},
     "output_type": "execute_result"
    }
   ],
   "source": [
    "# only data we're interested it\n",
    "index_l = ['one', 'two', 'three', 'four', 'five', 'six', 'seven']\n",
    "\n",
    "df2 = pd.DataFrame(data_d, columns=['Pop', 'Year'], index=towns_l)\n",
    "df2"
   ]
  },
  {
   "cell_type": "code",
   "execution_count": 53,
   "id": "29eeadcf",
   "metadata": {},
   "outputs": [
    {
     "data": {
      "text/plain": [
       "Pop        2.4\n",
       "Year    2020.0\n",
       "Name: Athlone, dtype: float64"
      ]
     },
     "execution_count": 53,
     "metadata": {},
     "output_type": "execute_result"
    }
   ],
   "source": [
    "# accessing data with loc\n",
    "# loc = locate rows\n",
    "df2.loc['Athlone']"
   ]
  },
  {
   "cell_type": "code",
   "execution_count": 59,
   "id": "e1a0b00d",
   "metadata": {},
   "outputs": [
    {
     "data": {
      "text/plain": [
       "Cork           1.5\n",
       "Dublin         1.7\n",
       "Galway         3.6\n",
       "Athlone        2.4\n",
       "Shannon        2.9\n",
       "Rosscarbery    3.2\n",
       "Athenry        1.7\n",
       "Name: Pop, dtype: float64"
      ]
     },
     "execution_count": 59,
     "metadata": {},
     "output_type": "execute_result"
    }
   ],
   "source": [
    "# df2['Athlone']    # not a Series\n",
    "df2['Pop']    # get column"
   ]
  },
  {
   "cell_type": "code",
   "execution_count": 60,
   "id": "5e051225",
   "metadata": {},
   "outputs": [
    {
     "data": {
      "text/plain": [
       "Pop        2.9\n",
       "Year    2021.0\n",
       "Name: Shannon, dtype: float64"
      ]
     },
     "execution_count": 60,
     "metadata": {},
     "output_type": "execute_result"
    }
   ],
   "source": [
    "df2.loc['Shannon']    # get row"
   ]
  },
  {
   "cell_type": "code",
   "execution_count": 61,
   "id": "22eab48f",
   "metadata": {},
   "outputs": [
    {
     "data": {
      "text/plain": [
       "Pop        2.4\n",
       "Year    2020.0\n",
       "Name: Athlone, dtype: float64"
      ]
     },
     "execution_count": 61,
     "metadata": {},
     "output_type": "execute_result"
    }
   ],
   "source": [
    "df2.iloc[3]    # get row by underlying ordinal position (0-indexed)"
   ]
  },
  {
   "cell_type": "code",
   "execution_count": 62,
   "id": "f6430d61",
   "metadata": {},
   "outputs": [],
   "source": [
    "# ---- lunch ----"
   ]
  },
  {
   "cell_type": "code",
   "execution_count": 63,
   "id": "f1e11f0d",
   "metadata": {},
   "outputs": [
    {
     "data": {
      "text/html": [
       "<div>\n",
       "<style scoped>\n",
       "    .dataframe tbody tr th:only-of-type {\n",
       "        vertical-align: middle;\n",
       "    }\n",
       "\n",
       "    .dataframe tbody tr th {\n",
       "        vertical-align: top;\n",
       "    }\n",
       "\n",
       "    .dataframe thead th {\n",
       "        text-align: right;\n",
       "    }\n",
       "</style>\n",
       "<table border=\"1\" class=\"dataframe\">\n",
       "  <thead>\n",
       "    <tr style=\"text-align: right;\">\n",
       "      <th></th>\n",
       "      <th>red</th>\n",
       "      <th>green</th>\n",
       "      <th>gold</th>\n",
       "      <th>white</th>\n",
       "    </tr>\n",
       "  </thead>\n",
       "  <tbody>\n",
       "    <tr>\n",
       "      <th>Waterford</th>\n",
       "      <td>0</td>\n",
       "      <td>1</td>\n",
       "      <td>2</td>\n",
       "      <td>3</td>\n",
       "    </tr>\n",
       "    <tr>\n",
       "      <th>Clonakilty</th>\n",
       "      <td>4</td>\n",
       "      <td>5</td>\n",
       "      <td>6</td>\n",
       "      <td>7</td>\n",
       "    </tr>\n",
       "    <tr>\n",
       "      <th>Athenry</th>\n",
       "      <td>8</td>\n",
       "      <td>9</td>\n",
       "      <td>10</td>\n",
       "      <td>11</td>\n",
       "    </tr>\n",
       "    <tr>\n",
       "      <th>Meath</th>\n",
       "      <td>12</td>\n",
       "      <td>13</td>\n",
       "      <td>14</td>\n",
       "      <td>15</td>\n",
       "    </tr>\n",
       "  </tbody>\n",
       "</table>\n",
       "</div>"
      ],
      "text/plain": [
       "            red  green  gold  white\n",
       "Waterford     0      1     2      3\n",
       "Clonakilty    4      5     6      7\n",
       "Athenry       8      9    10     11\n",
       "Meath        12     13    14     15"
      ]
     },
     "execution_count": 63,
     "metadata": {},
     "output_type": "execute_result"
    }
   ],
   "source": [
    "i = ['Waterford', 'Clonakilty', 'Athenry', 'Meath']\n",
    "c = ['red', 'green', 'gold', 'white']\n",
    "\n",
    "df4 = pd.DataFrame(np.arange(16).reshape(4, 4), index=i, columns=c)\n",
    "df4"
   ]
  },
  {
   "cell_type": "code",
   "execution_count": 66,
   "id": "b9e2e03c",
   "metadata": {},
   "outputs": [
    {
     "data": {
      "text/html": [
       "<div>\n",
       "<style scoped>\n",
       "    .dataframe tbody tr th:only-of-type {\n",
       "        vertical-align: middle;\n",
       "    }\n",
       "\n",
       "    .dataframe tbody tr th {\n",
       "        vertical-align: top;\n",
       "    }\n",
       "\n",
       "    .dataframe thead th {\n",
       "        text-align: right;\n",
       "    }\n",
       "</style>\n",
       "<table border=\"1\" class=\"dataframe\">\n",
       "  <thead>\n",
       "    <tr style=\"text-align: right;\">\n",
       "      <th></th>\n",
       "      <th>red</th>\n",
       "      <th>green</th>\n",
       "      <th>gold</th>\n",
       "      <th>white</th>\n",
       "    </tr>\n",
       "  </thead>\n",
       "  <tbody>\n",
       "    <tr>\n",
       "      <th>Clonakilty</th>\n",
       "      <td>4</td>\n",
       "      <td>5</td>\n",
       "      <td>6</td>\n",
       "      <td>7</td>\n",
       "    </tr>\n",
       "  </tbody>\n",
       "</table>\n",
       "</div>"
      ],
      "text/plain": [
       "            red  green  gold  white\n",
       "Clonakilty    4      5     6      7"
      ]
     },
     "execution_count": 66,
     "metadata": {},
     "output_type": "execute_result"
    }
   ],
   "source": [
    "which_row = df4[df4['gold'] == 6]\n",
    "which_row"
   ]
  },
  {
   "cell_type": "code",
   "execution_count": 71,
   "id": "90c78b70",
   "metadata": {},
   "outputs": [
    {
     "data": {
      "text/html": [
       "<div>\n",
       "<style scoped>\n",
       "    .dataframe tbody tr th:only-of-type {\n",
       "        vertical-align: middle;\n",
       "    }\n",
       "\n",
       "    .dataframe tbody tr th {\n",
       "        vertical-align: top;\n",
       "    }\n",
       "\n",
       "    .dataframe thead th {\n",
       "        text-align: right;\n",
       "    }\n",
       "</style>\n",
       "<table border=\"1\" class=\"dataframe\">\n",
       "  <thead>\n",
       "    <tr style=\"text-align: right;\">\n",
       "      <th></th>\n",
       "      <th>red</th>\n",
       "      <th>green</th>\n",
       "      <th>gold</th>\n",
       "      <th>white</th>\n",
       "    </tr>\n",
       "  </thead>\n",
       "  <tbody>\n",
       "    <tr>\n",
       "      <th>Waterford</th>\n",
       "      <td>0</td>\n",
       "      <td>1</td>\n",
       "      <td>2</td>\n",
       "      <td>3</td>\n",
       "    </tr>\n",
       "    <tr>\n",
       "      <th>Clonakilty</th>\n",
       "      <td>4</td>\n",
       "      <td>55</td>\n",
       "      <td>6</td>\n",
       "      <td>7</td>\n",
       "    </tr>\n",
       "    <tr>\n",
       "      <th>Athenry</th>\n",
       "      <td>8</td>\n",
       "      <td>9</td>\n",
       "      <td>10</td>\n",
       "      <td>11</td>\n",
       "    </tr>\n",
       "    <tr>\n",
       "      <th>Meath</th>\n",
       "      <td>12</td>\n",
       "      <td>13</td>\n",
       "      <td>14</td>\n",
       "      <td>15</td>\n",
       "    </tr>\n",
       "  </tbody>\n",
       "</table>\n",
       "</div>"
      ],
      "text/plain": [
       "            red  green  gold  white\n",
       "Waterford     0      1     2      3\n",
       "Clonakilty    4     55     6      7\n",
       "Athenry       8      9    10     11\n",
       "Meath        12     13    14     15"
      ]
     },
     "execution_count": 71,
     "metadata": {},
     "output_type": "execute_result"
    }
   ],
   "source": [
    "df4.loc['Clonakilty']['green'] = 55\n",
    "df4"
   ]
  },
  {
   "cell_type": "code",
   "execution_count": 73,
   "id": "f1ffca82",
   "metadata": {},
   "outputs": [
    {
     "data": {
      "text/html": [
       "<div>\n",
       "<style scoped>\n",
       "    .dataframe tbody tr th:only-of-type {\n",
       "        vertical-align: middle;\n",
       "    }\n",
       "\n",
       "    .dataframe tbody tr th {\n",
       "        vertical-align: top;\n",
       "    }\n",
       "\n",
       "    .dataframe thead th {\n",
       "        text-align: right;\n",
       "    }\n",
       "</style>\n",
       "<table border=\"1\" class=\"dataframe\">\n",
       "  <thead>\n",
       "    <tr style=\"text-align: right;\">\n",
       "      <th></th>\n",
       "      <th>red</th>\n",
       "      <th>green</th>\n",
       "      <th>gold</th>\n",
       "      <th>white</th>\n",
       "    </tr>\n",
       "  </thead>\n",
       "  <tbody>\n",
       "    <tr>\n",
       "      <th>Waterford</th>\n",
       "      <td>0</td>\n",
       "      <td>1</td>\n",
       "      <td>2</td>\n",
       "      <td>3</td>\n",
       "    </tr>\n",
       "    <tr>\n",
       "      <th>Clonakilty</th>\n",
       "      <td>4</td>\n",
       "      <td>55</td>\n",
       "      <td>6</td>\n",
       "      <td>99</td>\n",
       "    </tr>\n",
       "    <tr>\n",
       "      <th>Athenry</th>\n",
       "      <td>8</td>\n",
       "      <td>9</td>\n",
       "      <td>10</td>\n",
       "      <td>11</td>\n",
       "    </tr>\n",
       "    <tr>\n",
       "      <th>Meath</th>\n",
       "      <td>12</td>\n",
       "      <td>13</td>\n",
       "      <td>14</td>\n",
       "      <td>15</td>\n",
       "    </tr>\n",
       "  </tbody>\n",
       "</table>\n",
       "</div>"
      ],
      "text/plain": [
       "            red  green  gold  white\n",
       "Waterford     0      1     2      3\n",
       "Clonakilty    4     55     6     99\n",
       "Athenry       8      9    10     11\n",
       "Meath        12     13    14     15"
      ]
     },
     "execution_count": 73,
     "metadata": {},
     "output_type": "execute_result"
    }
   ],
   "source": [
    "df4.iloc[1]['white'] = 99\n",
    "df4"
   ]
  },
  {
   "cell_type": "code",
   "execution_count": null,
   "id": "e1dfb994",
   "metadata": {},
   "outputs": [],
   "source": []
  }
 ],
 "metadata": {
  "kernelspec": {
   "display_name": "Python 3 (ipykernel)",
   "language": "python",
   "name": "python3"
  },
  "language_info": {
   "codemirror_mode": {
    "name": "ipython",
    "version": 3
   },
   "file_extension": ".py",
   "mimetype": "text/x-python",
   "name": "python",
   "nbconvert_exporter": "python",
   "pygments_lexer": "ipython3",
   "version": "3.11.5"
  }
 },
 "nbformat": 4,
 "nbformat_minor": 5
}
